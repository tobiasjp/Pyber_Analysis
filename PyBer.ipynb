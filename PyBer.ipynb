{
 "cells": [
  {
   "cell_type": "code",
   "execution_count": 1,
   "id": "bef938a1",
   "metadata": {},
   "outputs": [],
   "source": [
    "%matplotlib inline"
   ]
  },
  {
   "cell_type": "code",
   "execution_count": 2,
   "id": "50e4802b",
   "metadata": {},
   "outputs": [],
   "source": [
    "import matplotlib.pyplot as plt\n",
    "import pandas as pd\n",
    "import statistics\n",
    "import numpy as np"
   ]
  },
  {
   "cell_type": "code",
   "execution_count": 3,
   "id": "e240d7e3",
   "metadata": {},
   "outputs": [],
   "source": [
    "city_data_file = 'Resources/city_data.csv'\n",
    "ride_data_file = 'Resources/ride_data.csv'\n",
    "\n",
    "city_data_df = pd.read_csv(city_data_file)\n",
    "ride_data_df = pd.read_csv(ride_data_file)"
   ]
  },
  {
   "cell_type": "code",
   "execution_count": 5,
   "id": "2ff5ce03",
   "metadata": {},
   "outputs": [
    {
     "name": "stdout",
     "output_type": "stream",
     "text": [
      "            city  driver_count   type\n",
      "0    Richardfort            38  Urban\n",
      "1   Williamsstad            59  Urban\n",
      "2    Port Angela            67  Urban\n",
      "3     Rodneyfort            34  Urban\n",
      "4    West Robert            39  Urban\n",
      "5   West Anthony            70  Urban\n",
      "6    West Angela            48  Urban\n",
      "7  Martinezhaven            25  Urban\n",
      "8      Karenberg            22  Urban\n",
      "9    Barajasview            26  Urban\n",
      "                 city                 date   fare        ride_id\n",
      "0  Lake Jonathanshire  2019-01-14 10:14:22  13.83  5739410935873\n",
      "1  South Michelleport  2019-03-04 18:24:09  30.24  2343912425577\n",
      "2  Port Samanthamouth  2019-02-24 04:29:00  33.44  2005065760003\n",
      "3          Rodneyfort  2019-02-10 23:22:03  23.44  5149245426178\n",
      "4          South Jack  2019-03-06 04:28:35  34.58  3908451377344\n",
      "5        South Latoya  2019-03-11 12:26:48   9.52  1994999424437\n",
      "6       New Paulville  2019-02-27 11:17:56  43.25   793208410091\n",
      "7        Simpsonburgh  2019-04-26 00:43:24  35.98   111953927754\n",
      "8     South Karenland  2019-01-08 03:28:48  35.09  7995623208694\n",
      "9       North Jasmine  2019-03-09 06:26:29  42.81  5327642267789\n"
     ]
    }
   ],
   "source": [
    "print(city_data_df.head(10))\n",
    "print(ride_data_df.head(10))"
   ]
  },
  {
   "cell_type": "code",
   "execution_count": 9,
   "id": "397d92f8",
   "metadata": {},
   "outputs": [
    {
     "name": "stdout",
     "output_type": "stream",
     "text": [
      "city        object\n",
      "date        object\n",
      "fare       float64\n",
      "ride_id      int64\n",
      "dtype: object\n",
      "city            object\n",
      "driver_count     int64\n",
      "type            object\n",
      "dtype: object\n",
      "city       2375\n",
      "date       2375\n",
      "fare       2375\n",
      "ride_id    2375\n",
      "dtype: int64\n",
      "city            120\n",
      "driver_count    120\n",
      "type            120\n",
      "dtype: int64\n",
      "city            0\n",
      "driver_count    0\n",
      "type            0\n",
      "dtype: int64\n",
      "city       0\n",
      "date       0\n",
      "fare       0\n",
      "ride_id    0\n",
      "dtype: int64\n"
     ]
    }
   ],
   "source": [
    "print(ride_data_df.dtypes)\n",
    "print(city_data_df.dtypes)\n",
    "print(ride_data_df.count())\n",
    "print(city_data_df.count())\n",
    "print(city_data_df.isnull().sum())\n",
    "print(ride_data_df.isnull().sum())"
   ]
  },
  {
   "cell_type": "code",
   "execution_count": 10,
   "id": "bfdc466a",
   "metadata": {},
   "outputs": [
    {
     "data": {
      "text/plain": [
       "array(['Urban', 'Suburban', 'Rural'], dtype=object)"
      ]
     },
     "execution_count": 10,
     "metadata": {},
     "output_type": "execute_result"
    }
   ],
   "source": [
    "city_data_df['type'].unique()"
   ]
  },
  {
   "cell_type": "code",
   "execution_count": 13,
   "id": "423f23fd",
   "metadata": {},
   "outputs": [
    {
     "name": "stdout",
     "output_type": "stream",
     "text": [
      "66\n",
      "36\n",
      "18\n"
     ]
    }
   ],
   "source": [
    "print(sum(city_data_df['type'] == 'Urban'))\n",
    "print(sum(city_data_df['type'] == 'Suburban'))\n",
    "print(sum(city_data_df['type'] == 'Rural'))\n"
   ]
  },
  {
   "cell_type": "code",
   "execution_count": 14,
   "id": "3fddbd14",
   "metadata": {},
   "outputs": [
    {
     "data": {
      "text/html": [
       "<div>\n",
       "<style scoped>\n",
       "    .dataframe tbody tr th:only-of-type {\n",
       "        vertical-align: middle;\n",
       "    }\n",
       "\n",
       "    .dataframe tbody tr th {\n",
       "        vertical-align: top;\n",
       "    }\n",
       "\n",
       "    .dataframe thead th {\n",
       "        text-align: right;\n",
       "    }\n",
       "</style>\n",
       "<table border=\"1\" class=\"dataframe\">\n",
       "  <thead>\n",
       "    <tr style=\"text-align: right;\">\n",
       "      <th></th>\n",
       "      <th>city</th>\n",
       "      <th>date</th>\n",
       "      <th>fare</th>\n",
       "      <th>ride_id</th>\n",
       "      <th>driver_count</th>\n",
       "      <th>type</th>\n",
       "    </tr>\n",
       "  </thead>\n",
       "  <tbody>\n",
       "    <tr>\n",
       "      <th>0</th>\n",
       "      <td>Lake Jonathanshire</td>\n",
       "      <td>2019-01-14 10:14:22</td>\n",
       "      <td>13.83</td>\n",
       "      <td>5739410935873</td>\n",
       "      <td>5</td>\n",
       "      <td>Urban</td>\n",
       "    </tr>\n",
       "    <tr>\n",
       "      <th>1</th>\n",
       "      <td>South Michelleport</td>\n",
       "      <td>2019-03-04 18:24:09</td>\n",
       "      <td>30.24</td>\n",
       "      <td>2343912425577</td>\n",
       "      <td>72</td>\n",
       "      <td>Urban</td>\n",
       "    </tr>\n",
       "    <tr>\n",
       "      <th>2</th>\n",
       "      <td>Port Samanthamouth</td>\n",
       "      <td>2019-02-24 04:29:00</td>\n",
       "      <td>33.44</td>\n",
       "      <td>2005065760003</td>\n",
       "      <td>57</td>\n",
       "      <td>Urban</td>\n",
       "    </tr>\n",
       "    <tr>\n",
       "      <th>3</th>\n",
       "      <td>Rodneyfort</td>\n",
       "      <td>2019-02-10 23:22:03</td>\n",
       "      <td>23.44</td>\n",
       "      <td>5149245426178</td>\n",
       "      <td>34</td>\n",
       "      <td>Urban</td>\n",
       "    </tr>\n",
       "    <tr>\n",
       "      <th>4</th>\n",
       "      <td>South Jack</td>\n",
       "      <td>2019-03-06 04:28:35</td>\n",
       "      <td>34.58</td>\n",
       "      <td>3908451377344</td>\n",
       "      <td>46</td>\n",
       "      <td>Urban</td>\n",
       "    </tr>\n",
       "  </tbody>\n",
       "</table>\n",
       "</div>"
      ],
      "text/plain": [
       "                 city                 date   fare        ride_id  \\\n",
       "0  Lake Jonathanshire  2019-01-14 10:14:22  13.83  5739410935873   \n",
       "1  South Michelleport  2019-03-04 18:24:09  30.24  2343912425577   \n",
       "2  Port Samanthamouth  2019-02-24 04:29:00  33.44  2005065760003   \n",
       "3          Rodneyfort  2019-02-10 23:22:03  23.44  5149245426178   \n",
       "4          South Jack  2019-03-06 04:28:35  34.58  3908451377344   \n",
       "\n",
       "   driver_count   type  \n",
       "0             5  Urban  \n",
       "1            72  Urban  \n",
       "2            57  Urban  \n",
       "3            34  Urban  \n",
       "4            46  Urban  "
      ]
     },
     "execution_count": 14,
     "metadata": {},
     "output_type": "execute_result"
    }
   ],
   "source": [
    "#merge the data frames\n",
    "\n",
    "pyber_data_df = pd.merge(ride_data_df, city_data_df, how = 'left', on =['city', 'city'])\n",
    "\n",
    "pyber_data_df.head()"
   ]
  },
  {
   "cell_type": "code",
   "execution_count": null,
   "id": "d710e926",
   "metadata": {},
   "outputs": [],
   "source": [
    "# create bubble chart that showcases the average fare versus \n",
    "# the total number of rides with bubble size based on the total number\n",
    "# of drivers for each city type, including urban, suburban, and rural\n"
   ]
  },
  {
   "cell_type": "code",
   "execution_count": null,
   "id": "16150bcd",
   "metadata": {},
   "outputs": [],
   "source": [
    "#determine the mean median and mode for\n",
    "\n",
    "#total number of rides for each city type\n",
    "\n",
    "#the average fares for each city type\n",
    "\n",
    "#the total number of drivers for each city type"
   ]
  },
  {
   "cell_type": "code",
   "execution_count": null,
   "id": "2f64b297",
   "metadata": {},
   "outputs": [],
   "source": [
    "# create box and whiskers plots that visualize each of the following\n",
    "# to determine if there are any outliers\n",
    "\n",
    "#The number of rides for each city type\n",
    "\n",
    "#the fares for each city type\n",
    "\n",
    "#the number of drivers for each city type\n"
   ]
  },
  {
   "cell_type": "code",
   "execution_count": null,
   "id": "2fe82aeb",
   "metadata": {},
   "outputs": [],
   "source": [
    "# create a pie chart that visualizes each of the following data\n",
    "# for each city type\n",
    "\n",
    "# The percent of total fares\n",
    "\n",
    "\n",
    "# The percent of total rides\n",
    "\n",
    "\n",
    "# the percent of total drivers"
   ]
  },
  {
   "cell_type": "code",
   "execution_count": null,
   "id": "0b833c23",
   "metadata": {},
   "outputs": [],
   "source": []
  },
  {
   "cell_type": "code",
   "execution_count": null,
   "id": "2d3ab8af",
   "metadata": {},
   "outputs": [],
   "source": []
  },
  {
   "cell_type": "code",
   "execution_count": null,
   "id": "0860b632",
   "metadata": {},
   "outputs": [],
   "source": []
  },
  {
   "cell_type": "code",
   "execution_count": null,
   "id": "5b0b3fe2",
   "metadata": {},
   "outputs": [],
   "source": []
  },
  {
   "cell_type": "code",
   "execution_count": null,
   "id": "8ea8aa2e",
   "metadata": {},
   "outputs": [],
   "source": []
  },
  {
   "cell_type": "code",
   "execution_count": null,
   "id": "eab652eb",
   "metadata": {},
   "outputs": [],
   "source": []
  }
 ],
 "metadata": {
  "kernelspec": {
   "display_name": "PythonData",
   "language": "python",
   "name": "pythondata"
  },
  "language_info": {
   "codemirror_mode": {
    "name": "ipython",
    "version": 3
   },
   "file_extension": ".py",
   "mimetype": "text/x-python",
   "name": "python",
   "nbconvert_exporter": "python",
   "pygments_lexer": "ipython3",
   "version": "3.7.11"
  }
 },
 "nbformat": 4,
 "nbformat_minor": 5
}
